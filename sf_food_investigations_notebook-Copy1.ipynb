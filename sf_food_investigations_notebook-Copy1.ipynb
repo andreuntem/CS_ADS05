{
 "cells": [
  {
   "cell_type": "markdown",
   "metadata": {},
   "source": [
    "# Setup\n",
    "Install the necessary dependencies with `pip install ipython-sql`"
   ]
  },
  {
   "cell_type": "code",
   "execution_count": 20,
   "metadata": {},
   "outputs": [],
   "source": [
    "import pandas as pd\n",
    "import sqlite3\n",
    "from sqlalchemy import create_engine"
   ]
  },
  {
   "cell_type": "markdown",
   "metadata": {},
   "source": [
    "# How to submit\n",
    "You are welcome to use this notebook to interactive try out different SQL queries.\n",
    "\n",
    "To assess whether your queries are correct you will need to complete the 3 submission files provided.\n",
    "\n",
    "Refer to the `README.md` for background on the dataset."
   ]
  },
  {
   "cell_type": "code",
   "execution_count": 52,
   "metadata": {},
   "outputs": [
    {
     "data": {
      "text/html": [
       "<div>\n",
       "<style scoped>\n",
       "    .dataframe tbody tr th:only-of-type {\n",
       "        vertical-align: middle;\n",
       "    }\n",
       "\n",
       "    .dataframe tbody tr th {\n",
       "        vertical-align: top;\n",
       "    }\n",
       "\n",
       "    .dataframe thead th {\n",
       "        text-align: right;\n",
       "    }\n",
       "</style>\n",
       "<table border=\"1\" class=\"dataframe\">\n",
       "  <thead>\n",
       "    <tr style=\"text-align: right;\">\n",
       "      <th></th>\n",
       "      <th>business_id</th>\n",
       "      <th>name</th>\n",
       "      <th>address</th>\n",
       "      <th>city</th>\n",
       "      <th>postal_code</th>\n",
       "      <th>latitude</th>\n",
       "      <th>longitude</th>\n",
       "      <th>phone_number</th>\n",
       "      <th>TaxCode</th>\n",
       "      <th>business_certificate</th>\n",
       "      <th>application_date</th>\n",
       "      <th>owner_name</th>\n",
       "      <th>owner_address</th>\n",
       "      <th>owner_city</th>\n",
       "      <th>owner_state</th>\n",
       "      <th>owner_zip</th>\n",
       "    </tr>\n",
       "  </thead>\n",
       "  <tbody>\n",
       "    <tr>\n",
       "      <th>0</th>\n",
       "      <td>10</td>\n",
       "      <td>Tiramisu Kitchen</td>\n",
       "      <td>033 Belden Pl</td>\n",
       "      <td>San Francisco</td>\n",
       "      <td>94104</td>\n",
       "      <td>37.791116</td>\n",
       "      <td>-122.403816</td>\n",
       "      <td>NaN</td>\n",
       "      <td>H24</td>\n",
       "      <td>779059.0</td>\n",
       "      <td>None</td>\n",
       "      <td>Tiramisu LLC</td>\n",
       "      <td>33 Belden St</td>\n",
       "      <td>San Francisco</td>\n",
       "      <td>CA</td>\n",
       "      <td>94104</td>\n",
       "    </tr>\n",
       "    <tr>\n",
       "      <th>1</th>\n",
       "      <td>19</td>\n",
       "      <td>Nrgize Lifestyle Cafe</td>\n",
       "      <td>1200 Van Ness Ave, 3rd Floor</td>\n",
       "      <td>San Francisco</td>\n",
       "      <td>94109</td>\n",
       "      <td>37.786848</td>\n",
       "      <td>-122.421547</td>\n",
       "      <td>NaN</td>\n",
       "      <td>H24</td>\n",
       "      <td>NaN</td>\n",
       "      <td>None</td>\n",
       "      <td>24 Hour Fitness Inc</td>\n",
       "      <td>1200 Van Ness Ave, 3rd Floor</td>\n",
       "      <td>San Francisco</td>\n",
       "      <td>CA</td>\n",
       "      <td>94109</td>\n",
       "    </tr>\n",
       "    <tr>\n",
       "      <th>2</th>\n",
       "      <td>24</td>\n",
       "      <td>OMNI S.F. Hotel - 2nd Floor Pantry</td>\n",
       "      <td>500 California St, 2nd  Floor</td>\n",
       "      <td>San Francisco</td>\n",
       "      <td>94104</td>\n",
       "      <td>37.792888</td>\n",
       "      <td>-122.403135</td>\n",
       "      <td>NaN</td>\n",
       "      <td>H24</td>\n",
       "      <td>352312.0</td>\n",
       "      <td>None</td>\n",
       "      <td>OMNI San Francisco Hotel Corp</td>\n",
       "      <td>500 California St, 2nd Floor</td>\n",
       "      <td>San Francisco</td>\n",
       "      <td>CA</td>\n",
       "      <td>94104</td>\n",
       "    </tr>\n",
       "    <tr>\n",
       "      <th>3</th>\n",
       "      <td>31</td>\n",
       "      <td>Norman's Ice Cream and Freezes</td>\n",
       "      <td>2801 Leavenworth St</td>\n",
       "      <td>San Francisco</td>\n",
       "      <td>94133</td>\n",
       "      <td>37.807155</td>\n",
       "      <td>-122.419004</td>\n",
       "      <td>NaN</td>\n",
       "      <td>H24</td>\n",
       "      <td>346882.0</td>\n",
       "      <td>None</td>\n",
       "      <td>Norman Antiforda</td>\n",
       "      <td>2801 Leavenworth St</td>\n",
       "      <td>San Francisco</td>\n",
       "      <td>CA</td>\n",
       "      <td>94133</td>\n",
       "    </tr>\n",
       "    <tr>\n",
       "      <th>4</th>\n",
       "      <td>45</td>\n",
       "      <td>CHARLIE'S DELI CAFE</td>\n",
       "      <td>3202 FOLSOM St</td>\n",
       "      <td>S.F.</td>\n",
       "      <td>94110</td>\n",
       "      <td>37.747114</td>\n",
       "      <td>-122.413641</td>\n",
       "      <td>NaN</td>\n",
       "      <td>H24</td>\n",
       "      <td>340024.0</td>\n",
       "      <td>2001-10-10</td>\n",
       "      <td>HARB, CHARLES AND KRISTIN</td>\n",
       "      <td>1150 SANCHEZ</td>\n",
       "      <td>S.F.</td>\n",
       "      <td>CA</td>\n",
       "      <td>94114</td>\n",
       "    </tr>\n",
       "  </tbody>\n",
       "</table>\n",
       "</div>"
      ],
      "text/plain": [
       "   business_id                                name  \\\n",
       "0           10                    Tiramisu Kitchen   \n",
       "1           19               Nrgize Lifestyle Cafe   \n",
       "2           24  OMNI S.F. Hotel - 2nd Floor Pantry   \n",
       "3           31      Norman's Ice Cream and Freezes   \n",
       "4           45                 CHARLIE'S DELI CAFE   \n",
       "\n",
       "                         address           city postal_code   latitude  \\\n",
       "0                  033 Belden Pl  San Francisco       94104  37.791116   \n",
       "1   1200 Van Ness Ave, 3rd Floor  San Francisco       94109  37.786848   \n",
       "2  500 California St, 2nd  Floor  San Francisco       94104  37.792888   \n",
       "3            2801 Leavenworth St  San Francisco       94133  37.807155   \n",
       "4                 3202 FOLSOM St           S.F.       94110  37.747114   \n",
       "\n",
       "    longitude  phone_number TaxCode  business_certificate application_date  \\\n",
       "0 -122.403816           NaN     H24              779059.0             None   \n",
       "1 -122.421547           NaN     H24                   NaN             None   \n",
       "2 -122.403135           NaN     H24              352312.0             None   \n",
       "3 -122.419004           NaN     H24              346882.0             None   \n",
       "4 -122.413641           NaN     H24              340024.0       2001-10-10   \n",
       "\n",
       "                      owner_name                 owner_address     owner_city  \\\n",
       "0                   Tiramisu LLC                  33 Belden St  San Francisco   \n",
       "1            24 Hour Fitness Inc  1200 Van Ness Ave, 3rd Floor  San Francisco   \n",
       "2  OMNI San Francisco Hotel Corp  500 California St, 2nd Floor  San Francisco   \n",
       "3               Norman Antiforda           2801 Leavenworth St  San Francisco   \n",
       "4      HARB, CHARLES AND KRISTIN                  1150 SANCHEZ           S.F.   \n",
       "\n",
       "  owner_state owner_zip  \n",
       "0          CA     94104  \n",
       "1          CA     94109  \n",
       "2          CA     94104  \n",
       "3          CA     94133  \n",
       "4          CA     94114  "
      ]
     },
     "execution_count": 52,
     "metadata": {},
     "output_type": "execute_result"
    }
   ],
   "source": [
    "query = '''\n",
    "SELECT *\n",
    "FROM businesses\n",
    "''' \n",
    "engine = create_engine(\"sqlite:///data/sfscores.sqlite\")\n",
    "df = pd.read_sql_query(query, engine)\n",
    "df.head()"
   ]
  },
  {
   "cell_type": "markdown",
   "metadata": {},
   "source": [
    "# Queries"
   ]
  },
  {
   "cell_type": "markdown",
   "metadata": {},
   "source": [
    "## Pt1: Essentials"
   ]
  },
  {
   "cell_type": "markdown",
   "metadata": {},
   "source": [
    "**1. Write a SQL query that finds the number of business ids in the businesses table**"
   ]
  },
  {
   "cell_type": "code",
   "execution_count": 46,
   "metadata": {},
   "outputs": [
    {
     "data": {
      "text/plain": [
       "7619"
      ]
     },
     "execution_count": 46,
     "metadata": {},
     "output_type": "execute_result"
    }
   ],
   "source": [
    "engine = create_engine(\"sqlite:///data/sfscores.sqlite\")\n",
    "query = '''\n",
    "SELECT COUNT (business_id)\n",
    "FROM businesses\n",
    "''' \n",
    "result = engine.execute(query)\n",
    "(n_bus_id, ) = result.fetchall()[0]\n",
    "n_bus_id"
   ]
  },
  {
   "cell_type": "markdown",
   "metadata": {},
   "source": [
    "**2. Write a SQL query that finds out how many unique business names are registered with San Francisco Food health investigation organization and name the column as unique restaurant name count.**"
   ]
  },
  {
   "cell_type": "code",
   "execution_count": 54,
   "metadata": {},
   "outputs": [
    {
     "data": {
      "text/html": [
       "<div>\n",
       "<style scoped>\n",
       "    .dataframe tbody tr th:only-of-type {\n",
       "        vertical-align: middle;\n",
       "    }\n",
       "\n",
       "    .dataframe tbody tr th {\n",
       "        vertical-align: top;\n",
       "    }\n",
       "\n",
       "    .dataframe thead th {\n",
       "        text-align: right;\n",
       "    }\n",
       "</style>\n",
       "<table border=\"1\" class=\"dataframe\">\n",
       "  <thead>\n",
       "    <tr style=\"text-align: right;\">\n",
       "      <th></th>\n",
       "      <th>business_id</th>\n",
       "      <th>name</th>\n",
       "      <th>address</th>\n",
       "      <th>city</th>\n",
       "      <th>postal_code</th>\n",
       "      <th>latitude</th>\n",
       "      <th>longitude</th>\n",
       "      <th>phone_number</th>\n",
       "      <th>TaxCode</th>\n",
       "      <th>business_certificate</th>\n",
       "      <th>application_date</th>\n",
       "      <th>owner_name</th>\n",
       "      <th>owner_address</th>\n",
       "      <th>owner_city</th>\n",
       "      <th>owner_state</th>\n",
       "      <th>owner_zip</th>\n",
       "    </tr>\n",
       "  </thead>\n",
       "  <tbody>\n",
       "    <tr>\n",
       "      <th>0</th>\n",
       "      <td>10</td>\n",
       "      <td>Tiramisu Kitchen</td>\n",
       "      <td>033 Belden Pl</td>\n",
       "      <td>San Francisco</td>\n",
       "      <td>94104</td>\n",
       "      <td>37.791116</td>\n",
       "      <td>-122.403816</td>\n",
       "      <td>NaN</td>\n",
       "      <td>H24</td>\n",
       "      <td>779059.0</td>\n",
       "      <td>None</td>\n",
       "      <td>Tiramisu LLC</td>\n",
       "      <td>33 Belden St</td>\n",
       "      <td>San Francisco</td>\n",
       "      <td>CA</td>\n",
       "      <td>94104</td>\n",
       "    </tr>\n",
       "  </tbody>\n",
       "</table>\n",
       "</div>"
      ],
      "text/plain": [
       "   business_id              name        address           city postal_code  \\\n",
       "0           10  Tiramisu Kitchen  033 Belden Pl  San Francisco       94104   \n",
       "\n",
       "    latitude   longitude  phone_number TaxCode  business_certificate  \\\n",
       "0  37.791116 -122.403816           NaN     H24              779059.0   \n",
       "\n",
       "  application_date    owner_name owner_address     owner_city owner_state  \\\n",
       "0             None  Tiramisu LLC  33 Belden St  San Francisco          CA   \n",
       "\n",
       "  owner_zip  \n",
       "0     94104  "
      ]
     },
     "execution_count": 54,
     "metadata": {},
     "output_type": "execute_result"
    }
   ],
   "source": [
    "df.head(1)"
   ]
  },
  {
   "cell_type": "code",
   "execution_count": 66,
   "metadata": {},
   "outputs": [
    {
     "data": {
      "text/plain": [
       "1808"
      ]
     },
     "execution_count": 66,
     "metadata": {},
     "output_type": "execute_result"
    }
   ],
   "source": [
    "flag = df['city'] == 'San Francisco'\n",
    "df['name'][flag].nunique()"
   ]
  },
  {
   "cell_type": "code",
   "execution_count": 69,
   "metadata": {},
   "outputs": [
    {
     "data": {
      "text/plain": [
       "[(7060,)]"
      ]
     },
     "execution_count": 69,
     "metadata": {},
     "output_type": "execute_result"
    }
   ],
   "source": [
    "query = '''\n",
    "SELECT COUNT (DISTINCT name) as \"unique resturant name count\"\n",
    "FROM businesses\n",
    "'''\n",
    "result = engine.execute(query)\n",
    "result.fetchall()"
   ]
  },
  {
   "cell_type": "markdown",
   "metadata": {},
   "source": [
    "**3. Write a SQL query that finds out what is the earliest and latest date a health investigation is recorded in this database.**"
   ]
  },
  {
   "cell_type": "code",
   "execution_count": 77,
   "metadata": {},
   "outputs": [
    {
     "data": {
      "text/plain": [
       "[(20131007, 20161215)]"
      ]
     },
     "execution_count": 77,
     "metadata": {},
     "output_type": "execute_result"
    }
   ],
   "source": [
    "query = '''\n",
    "SELECT min(date), max(date)\n",
    "FROM inspections\n",
    "'''\n",
    "result = engine.execute(query)\n",
    "result.fetchall()"
   ]
  },
  {
   "cell_type": "markdown",
   "metadata": {},
   "source": [
    "**4. How many businesses are there in San Francisco where their owners live in the same area (postal code/ zip code) as the business is located?**"
   ]
  },
  {
   "cell_type": "code",
   "execution_count": 82,
   "metadata": {},
   "outputs": [
    {
     "data": {
      "text/plain": [
       "[(4053,)]"
      ]
     },
     "execution_count": 82,
     "metadata": {},
     "output_type": "execute_result"
    }
   ],
   "source": [
    "query = '''\n",
    "SELECT DISTINCT COUNT (*)\n",
    "FROM businesses\n",
    "WHERE postal_code = owner_zip\n",
    "'''\n",
    "result = engine.execute(query)\n",
    "result.fetchall()"
   ]
  },
  {
   "cell_type": "markdown",
   "metadata": {},
   "source": [
    "**5. Out of those businesses, how many of them has a registered business certificate?**"
   ]
  },
  {
   "cell_type": "code",
   "execution_count": 85,
   "metadata": {},
   "outputs": [
    {
     "data": {
      "text/plain": [
       "[(3373,)]"
      ]
     },
     "execution_count": 85,
     "metadata": {},
     "output_type": "execute_result"
    }
   ],
   "source": [
    "query = '''\n",
    "SELECT DISTINCT COUNT (*)\n",
    "FROM businesses\n",
    "WHERE \n",
    "    postal_code = owner_zip AND\n",
    "    business_certificate IS NOT NULL\n",
    "'''\n",
    "result = engine.execute(query)\n",
    "result.fetchall()"
   ]
  },
  {
   "cell_type": "markdown",
   "metadata": {},
   "source": [
    "## Pt2: Groupby"
   ]
  },
  {
   "cell_type": "markdown",
   "metadata": {},
   "source": [
    "**6. Find out the distribution of the risk exposure of all the violations reported in the database. The first column of the result should 'risk_category' and the second column the count.**"
   ]
  },
  {
   "cell_type": "code",
   "execution_count": 88,
   "metadata": {},
   "outputs": [
    {
     "data": {
      "text/plain": [
       "[('High Risk', 5608), ('Low Risk', 20996), ('Moderate Risk', 14131)]"
      ]
     },
     "execution_count": 88,
     "metadata": {},
     "output_type": "execute_result"
    }
   ],
   "source": [
    "query = '''\n",
    "SELECT risk_category, COUNT (date)\n",
    "FROM violations\n",
    "GROUP BY risk_category\n",
    "'''\n",
    "result = engine.execute(query)\n",
    "result.fetchall()"
   ]
  },
  {
   "cell_type": "markdown",
   "metadata": {},
   "source": [
    "**7. Find out the distribution of the risk exposure of all the violations reported in the database that are *water related*. Sort them by frequency (count) from high to low.**"
   ]
  },
  {
   "cell_type": "code",
   "execution_count": 99,
   "metadata": {},
   "outputs": [
    {
     "data": {
      "text/plain": [
       "[('Moderate Risk', 630), ('High Risk', 237)]"
      ]
     },
     "execution_count": 99,
     "metadata": {},
     "output_type": "execute_result"
    }
   ],
   "source": [
    "query = '''\n",
    "SELECT risk_category, COUNT(date) as frequency\n",
    "FROM violations\n",
    "WHERE\n",
    "    description like '%water%'\n",
    "GROUP BY risk_category\n",
    "ORDER BY frequency DESC\n",
    "'''\n",
    "result = engine.execute(query)\n",
    "result.fetchall()"
   ]
  },
  {
   "cell_type": "markdown",
   "metadata": {},
   "source": [
    "**8. What types of inspections does the authorities conduct and how often do they occur in general.\n",
    "    Calculate the distribution of different types of inspections with their frequency (type, frequency)\n",
    "    based on inspections records. Sort them in ascending order based on frequency.**"
   ]
  },
  {
   "cell_type": "code",
   "execution_count": 101,
   "metadata": {},
   "outputs": [
    {
     "data": {
      "text/plain": [
       "[('Multi-agency Investigation', 1),\n",
       " ('Administrative or Document Review', 3),\n",
       " ('Special Event', 7),\n",
       " ('Routine - Scheduled', 74),\n",
       " ('Foodborne Illness Investigation', 80),\n",
       " ('Complaint Reinspection/Followup', 138),\n",
       " ('Structural Inspection', 170),\n",
       " ('Non-inspection site visit', 814),\n",
       " ('Complaint', 1625),\n",
       " ('New Construction', 1737),\n",
       " ('New Ownership', 1843),\n",
       " ('Reinspection/Followup', 5283),\n",
       " ('Routine - Unscheduled', 15568)]"
      ]
     },
     "execution_count": 101,
     "metadata": {},
     "output_type": "execute_result"
    }
   ],
   "source": [
    "query = '''\n",
    "SELECT type, COUNT(date) as frequency\n",
    "FROM inspections\n",
    "GROUP BY type\n",
    "ORDER BY frequency ASC\n",
    "'''\n",
    "result = engine.execute(query)\n",
    "result.fetchall()"
   ]
  },
  {
   "cell_type": "markdown",
   "metadata": {},
   "source": [
    "**9. What is the average score given to restaurants based on the type of inspection?\n",
    "    Based on the results, identify the types of inspections that are not scored (NULL)\n",
    "    and remove those categories from the resultset. The 'average_score' should be rounded\n",
    "    to one decimal. Sort the results in ascending order based on the average score. Hint: use the function `ROUND(score, 1)`**"
   ]
  },
  {
   "cell_type": "code",
   "execution_count": 108,
   "metadata": {},
   "outputs": [
    {
     "data": {
      "text/plain": [
       "[('Reinspection/Followup', 85.0),\n",
       " ('Routine - Unscheduled', 91.2),\n",
       " ('New Ownership', 100.0)]"
      ]
     },
     "execution_count": 108,
     "metadata": {},
     "output_type": "execute_result"
    }
   ],
   "source": [
    "query = '''\n",
    "SELECT type, round(AVG(Score),1) as average_score\n",
    "FROM inspections\n",
    "WHERE inspections.type = 'New Ownership' or inspections.type = 'Reinspection/Followup' or inspections.type = 'Routine - Unscheduled'\n",
    "GROUP BY type\n",
    "ORDER BY average_score ASC\n",
    "'''\n",
    "result = engine.execute(query)\n",
    "result.fetchall()"
   ]
  },
  {
   "cell_type": "markdown",
   "metadata": {},
   "source": [
    "**10. Find the restaurant owners (owner_name) that own one or multiple restaurants in the city\n",
    "    with the number of restaurants (num_restaurants) they own.\n",
    "    Find the first top 10 owners ordered by descending order using the number of restaurants.**"
   ]
  },
  {
   "cell_type": "code",
   "execution_count": 119,
   "metadata": {},
   "outputs": [
    {
     "data": {
      "text/plain": [
       "[('VOLUME SERVICES AMERICA', 94),\n",
       " ('Department of Children, Youth and their Families', 64),\n",
       " ('SFUSD', 44),\n",
       " ('Volume Services, Inc.', 41),\n",
       " (\"Children's Empowerment Inc.\", 37),\n",
       " ('SAN FRANCISCO UNIFIED SCHOOL', 34),\n",
       " ('WALGREEN CO.', 17),\n",
       " ('SMG Food and Beverage LLC', 15),\n",
       " ('Walgreen Co', 15),\n",
       " ('Walgreen Co.', 14)]"
      ]
     },
     "execution_count": 119,
     "metadata": {},
     "output_type": "execute_result"
    }
   ],
   "source": [
    "query = '''\n",
    "SELECT owner_name, COUNT (name) AS num_restaurants\n",
    "FROM businesses\n",
    "GROUP BY owner_name\n",
    "ORDER BY num_restaurants DESC\n",
    "LIMIT 10\n",
    "'''\n",
    "result = engine.execute(query)\n",
    "result.fetchall()"
   ]
  },
  {
   "cell_type": "markdown",
   "metadata": {},
   "source": [
    "## Pt3: Subqueries and joins"
   ]
  },
  {
   "cell_type": "markdown",
   "metadata": {},
   "source": [
    "**11. From the businesses table, select the top 10 most popular postal_code. They should be filtered to only count the restaurants owned by people/entities that own 5 or more restaurants. The final result should return a row (postal_code, count) for each 10 selection and be sorted by descending order to get the most relevant zip codes**"
   ]
  },
  {
   "cell_type": "code",
   "execution_count": 140,
   "metadata": {},
   "outputs": [
    {
     "data": {
      "text/plain": [
       "[('VOLUME SERVICES AMERICA', 94),\n",
       " ('Department of Children, Youth and their Families', 64),\n",
       " ('SFUSD', 44),\n",
       " ('Volume Services, Inc.', 41),\n",
       " (\"Children's Empowerment Inc.\", 37),\n",
       " ('SAN FRANCISCO UNIFIED SCHOOL', 34),\n",
       " ('WALGREEN CO.', 17),\n",
       " ('SMG Food and Beverage LLC', 15),\n",
       " ('Walgreen Co', 15),\n",
       " ('Walgreen Co.', 14),\n",
       " ('STARBUCKS COFFEE CO.', 13),\n",
       " ('Starbucks Corporation', 13),\n",
       " ('Bon Appetit Management Company', 11),\n",
       " ('San Francisco Unified School District', 11),\n",
       " ('Starbucks Coffee Co', 11),\n",
       " ('Au Energy, LLC', 10),\n",
       " ('Garfield Beach CVS, LLC', 10),\n",
       " ('San Francisco Bay Concessionaires', 10),\n",
       " (None, 9),\n",
       " ('Bon Appetit Management Co', 9),\n",
       " ('RA CENTER LLC', 9),\n",
       " ('San Francisco Soup Company', 9),\n",
       " ('JUMA VENTURES, INC.', 8),\n",
       " ('STARBUCKS COFFEE COMPANY', 8),\n",
       " ('Target Corporation', 8),\n",
       " (\"Children's Empowerment, Inc.\", 7),\n",
       " ('Guckenheimer Services, LLC', 7),\n",
       " ('MARRIOTT HOTELS, INC.', 7),\n",
       " ('S.F. Unified School District', 7),\n",
       " ('SAFEWAY STORES, INC.', 7),\n",
       " ('Volume Services, Inc./Centerplate', 7),\n",
       " ('Bon Appetit Management Co.', 6),\n",
       " ('CDC SF, LLC', 6),\n",
       " ('Chipotle Mexican Grill, Inc.', 6),\n",
       " ('Dtrs St Francis LLC', 6),\n",
       " ('Huskies Lessee LLC', 6),\n",
       " ('MACYS WEST STORES INC', 6),\n",
       " ('OMNI San Francisco Hotel Corp', 6),\n",
       " (\"Peet's Coffee & Tea\", 6),\n",
       " ('SF Hilton, LLC', 6),\n",
       " ('VOLUME SERVICES INC', 6),\n",
       " ('Valley Juice LLC', 6),\n",
       " ('Volume Services America, Inc.', 6),\n",
       " ('Walgreens Co.', 6),\n",
       " ('Advanced Fresh Concepts Franchise Corp.', 5),\n",
       " ('EK Food Services, Inc.', 5),\n",
       " ('General Nutrition Corp', 5),\n",
       " ('LSF Hotel, LLC', 5),\n",
       " ('Lettus LLC', 5),\n",
       " ('Mason Street OpCo, LLC', 5),\n",
       " ('Sodexo America LLC', 5),\n",
       " ('Starbucks Coffee Company', 5),\n",
       " ('THE ABSINTHE GROUP INC', 5),\n",
       " ('Viva Soma Lessee Inc.', 5)]"
      ]
     },
     "execution_count": 140,
     "metadata": {},
     "output_type": "execute_result"
    }
   ],
   "source": [
    "query = '''\n",
    "    SELECT owner_name, COUNT(name) as count\n",
    "    FROM businesses\n",
    "    GROUP BY owner_name\n",
    "    HAVING COUNT (name) >= 5\n",
    "    ORDER BY count DESC\n",
    "'''\n",
    "result = engine.execute(query)\n",
    "result.fetchall()"
   ]
  },
  {
   "cell_type": "code",
   "execution_count": 142,
   "metadata": {},
   "outputs": [
    {
     "data": {
      "text/plain": [
       "[('94107', 179),\n",
       " ('94103', 68),\n",
       " ('94102', 56),\n",
       " ('94110', 32),\n",
       " ('94112', 30),\n",
       " ('94104', 28),\n",
       " ('94124', 27),\n",
       " ('94105', 23),\n",
       " ('94133', 22),\n",
       " ('94111', 21)]"
      ]
     },
     "execution_count": 142,
     "metadata": {},
     "output_type": "execute_result"
    }
   ],
   "source": [
    "query = '''\n",
    "SELECT postal_code, COUNT(*) as freq\n",
    "FROM businesses as b\n",
    "WHERE b.owner_name in \n",
    "    (SELECT owner_name\n",
    "    FROM businesses\n",
    "    GROUP BY owner_name\n",
    "    HAVING COUNT (name) >= 5\n",
    "    ORDER BY COUNT(name) DESC)\n",
    "GROUP BY postal_code\n",
    "ORDER BY freq DESC\n",
    "LIMIT 10\n",
    "'''\n",
    "result = engine.execute(query)\n",
    "result.fetchall()"
   ]
  },
  {
   "cell_type": "markdown",
   "metadata": {},
   "source": [
    "**12. First let's get an idea about the inspection score our competition has.\n",
    "    Based on multiple inspections, find out the minimum Score (as \"min_score\"),\n",
    "    average Score (as \"avg_score\") and maximum Score (as \"max_score\") for all restaurant in post code \"94103\".\n",
    "    The average score should be rounded to one decimal.**"
   ]
  },
  {
   "cell_type": "code",
   "execution_count": 148,
   "metadata": {},
   "outputs": [
    {
     "data": {
      "text/plain": [
       "[(54, 90.2, 100)]"
      ]
     },
     "execution_count": 148,
     "metadata": {},
     "output_type": "execute_result"
    }
   ],
   "source": [
    "query = '''\n",
    "SELECT MIN(Score) as min_score, round(AVG(Score),1) as avg_score, MAX(SCore) as max_score\n",
    "FROM inspections as i\n",
    "    LEFT OUTER JOIN businesses as b\n",
    "    ON i.business_id = b.business_id\n",
    "WHERE\n",
    "    b.postal_code = 94103\n",
    "'''\n",
    "\n",
    "result = engine.execute(query)\n",
    "result.fetchall()"
   ]
  },
  {
   "cell_type": "markdown",
   "metadata": {},
   "source": [
    "** 13. Now lets get more serious, and look at how many times restaurants in Market street\n",
    "    (postal_code: 94103) has committed health violations and group them based on their risk category.\n",
    "    The output should be (risk_category, count as frequency) and sorted in descending order by frequency**"
   ]
  },
  {
   "cell_type": "code",
   "execution_count": 154,
   "metadata": {},
   "outputs": [
    {
     "data": {
      "text/plain": [
       "[('Low Risk', 1746), ('Moderate Risk', 1229), ('High Risk', 520)]"
      ]
     },
     "execution_count": 154,
     "metadata": {},
     "output_type": "execute_result"
    }
   ],
   "source": [
    "query = '''\n",
    "SELECT risk_category, COUNT(*) as frequency\n",
    "FROM violations as v\n",
    "    LEFT OUTER JOIN businesses as b\n",
    "    ON v.business_id = b.business_id\n",
    "WHERE b.postal_code = 94103\n",
    "GROUP BY risk_category\n",
    "ORDER BY frequency DESC\n",
    "'''\n",
    "result = engine.execute(query)\n",
    "result.fetchall()"
   ]
  },
  {
   "cell_type": "code",
   "execution_count": null,
   "metadata": {},
   "outputs": [],
   "source": []
  }
 ],
 "metadata": {
  "kernelspec": {
   "display_name": "Python 3",
   "language": "python",
   "name": "python3"
  },
  "language_info": {
   "codemirror_mode": {
    "name": "ipython",
    "version": 3
   },
   "file_extension": ".py",
   "mimetype": "text/x-python",
   "name": "python",
   "nbconvert_exporter": "python",
   "pygments_lexer": "ipython3",
   "version": "3.7.3"
  },
  "toc": {
   "base_numbering": 1,
   "nav_menu": {},
   "number_sections": true,
   "sideBar": true,
   "skip_h1_title": false,
   "title_cell": "Table of Contents",
   "title_sidebar": "Contents",
   "toc_cell": false,
   "toc_position": {},
   "toc_section_display": true,
   "toc_window_display": false
  }
 },
 "nbformat": 4,
 "nbformat_minor": 1
}
