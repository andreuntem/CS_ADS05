{
 "cells": [
  {
   "cell_type": "markdown",
   "metadata": {},
   "source": [
    "# Setup\n",
    "Install the necessary dependencies with `pip install ipython-sql`"
   ]
  },
  {
   "cell_type": "code",
   "execution_count": 1,
   "metadata": {},
   "outputs": [
    {
     "data": {
      "text/plain": [
       "'Connected: @data/sfscores.sqlite'"
      ]
     },
     "execution_count": 1,
     "metadata": {},
     "output_type": "execute_result"
    }
   ],
   "source": [
    "%load_ext sql\n",
    "%sql sqlite:///data/sfscores.sqlite"
   ]
  },
  {
   "cell_type": "markdown",
   "metadata": {},
   "source": [
    "# How to submit\n",
    "You are welcome to use this notebook to interactive try out different SQL queries.\n",
    "\n",
    "To assess whether your queries are correct you will need to complete the 3 submission files provided.\n",
    "\n",
    "Refer to the `README.md` for background on the dataset."
   ]
  },
  {
   "cell_type": "markdown",
   "metadata": {},
   "source": [
    "# Queries"
   ]
  },
  {
   "cell_type": "markdown",
   "metadata": {},
   "source": [
    "## Pt1: Essentials"
   ]
  },
  {
   "cell_type": "markdown",
   "metadata": {},
   "source": [
    "**1. Write a SQL query that finds the number of business ids in the businesses table**"
   ]
  },
  {
   "cell_type": "code",
   "execution_count": null,
   "metadata": {},
   "outputs": [],
   "source": []
  },
  {
   "cell_type": "code",
   "execution_count": 15,
   "metadata": {},
   "outputs": [
    {
     "name": "stdout",
     "output_type": "stream",
     "text": [
      " * sqlite:///data/sfscores.sqlite\n",
      "Done.\n"
     ]
    },
    {
     "data": {
      "text/html": [
       "<table>\n",
       "    <tr>\n",
       "        <th>COUNT(business_id)</th>\n",
       "    </tr>\n",
       "    <tr>\n",
       "        <td>7619</td>\n",
       "    </tr>\n",
       "</table>"
      ],
      "text/plain": [
       "[(7619,)]"
      ]
     },
     "execution_count": 15,
     "metadata": {},
     "output_type": "execute_result"
    }
   ],
   "source": [
    "%sql SELECT COUNT(business_id) FROM businesses"
   ]
  },
  {
   "cell_type": "markdown",
   "metadata": {},
   "source": [
    "**2. Write a SQL query that finds out how many unique business names are registered with San Francisco Food health investigation organization and name the column as unique restaurant name count.**"
   ]
  },
  {
   "cell_type": "code",
   "execution_count": 3,
   "metadata": {},
   "outputs": [
    {
     "name": "stdout",
     "output_type": "stream",
     "text": [
      " * sqlite:///data/sfscores.sqlite\n"
     ]
    },
    {
     "data": {
      "text/plain": [
       "'Connected: @data/sfscores.sqlite'"
      ]
     },
     "execution_count": 3,
     "metadata": {},
     "output_type": "execute_result"
    }
   ],
   "source": [
    "%sql"
   ]
  },
  {
   "cell_type": "markdown",
   "metadata": {},
   "source": [
    "**3. Write a SQL query that finds out what is the earliest and latest date a health investigation is recorded in this database.**"
   ]
  },
  {
   "cell_type": "code",
   "execution_count": 4,
   "metadata": {},
   "outputs": [
    {
     "name": "stdout",
     "output_type": "stream",
     "text": [
      " * sqlite:///data/sfscores.sqlite\n"
     ]
    },
    {
     "data": {
      "text/plain": [
       "'Connected: @data/sfscores.sqlite'"
      ]
     },
     "execution_count": 4,
     "metadata": {},
     "output_type": "execute_result"
    }
   ],
   "source": [
    "%sql"
   ]
  },
  {
   "cell_type": "markdown",
   "metadata": {},
   "source": [
    "**4. How many businesses are there in San Francisco where their owners live in the same area (postal code/ zip code) as the business is located?**"
   ]
  },
  {
   "cell_type": "code",
   "execution_count": 5,
   "metadata": {},
   "outputs": [
    {
     "name": "stdout",
     "output_type": "stream",
     "text": [
      " * sqlite:///data/sfscores.sqlite\n"
     ]
    },
    {
     "data": {
      "text/plain": [
       "'Connected: @data/sfscores.sqlite'"
      ]
     },
     "execution_count": 5,
     "metadata": {},
     "output_type": "execute_result"
    }
   ],
   "source": [
    "%sql"
   ]
  },
  {
   "cell_type": "markdown",
   "metadata": {},
   "source": [
    "**5. Out of those businesses, how many of them has a registered business certificate?**"
   ]
  },
  {
   "cell_type": "code",
   "execution_count": 6,
   "metadata": {},
   "outputs": [
    {
     "name": "stdout",
     "output_type": "stream",
     "text": [
      " * sqlite:///data/sfscores.sqlite\n"
     ]
    },
    {
     "data": {
      "text/plain": [
       "'Connected: @data/sfscores.sqlite'"
      ]
     },
     "execution_count": 6,
     "metadata": {},
     "output_type": "execute_result"
    }
   ],
   "source": [
    "%sql"
   ]
  },
  {
   "cell_type": "markdown",
   "metadata": {},
   "source": [
    "## Pt2: Groupby"
   ]
  },
  {
   "cell_type": "markdown",
   "metadata": {},
   "source": [
    "**6. Find out the distribution of the risk exposure of all the violations reported in the database. The first column of the result should 'risk_category' and the second column the count.**"
   ]
  },
  {
   "cell_type": "code",
   "execution_count": 7,
   "metadata": {},
   "outputs": [
    {
     "name": "stdout",
     "output_type": "stream",
     "text": [
      " * sqlite:///data/sfscores.sqlite\n"
     ]
    },
    {
     "data": {
      "text/plain": [
       "'Connected: @data/sfscores.sqlite'"
      ]
     },
     "execution_count": 7,
     "metadata": {},
     "output_type": "execute_result"
    }
   ],
   "source": [
    "%sql"
   ]
  },
  {
   "cell_type": "markdown",
   "metadata": {},
   "source": [
    "**7. Find out the distribution of the risk exposure of all the violations reported in the database that are *water related*. Sort them by frequency (count) from high to low.**"
   ]
  },
  {
   "cell_type": "code",
   "execution_count": 8,
   "metadata": {},
   "outputs": [
    {
     "name": "stdout",
     "output_type": "stream",
     "text": [
      " * sqlite:///data/sfscores.sqlite\n"
     ]
    },
    {
     "data": {
      "text/plain": [
       "'Connected: @data/sfscores.sqlite'"
      ]
     },
     "execution_count": 8,
     "metadata": {},
     "output_type": "execute_result"
    }
   ],
   "source": [
    "%sql"
   ]
  },
  {
   "cell_type": "markdown",
   "metadata": {},
   "source": [
    "** 8. What types of inspections does the authorities conduct and how often do they occur in general.\n",
    "    Calculate the distribution of different types of inspections with their frequency (type, frequency)\n",
    "    based on inspections records. Sort them in ascending order based on frequency.**"
   ]
  },
  {
   "cell_type": "code",
   "execution_count": 9,
   "metadata": {},
   "outputs": [
    {
     "name": "stdout",
     "output_type": "stream",
     "text": [
      " * sqlite:///data/sfscores.sqlite\n"
     ]
    },
    {
     "data": {
      "text/plain": [
       "'Connected: @data/sfscores.sqlite'"
      ]
     },
     "execution_count": 9,
     "metadata": {},
     "output_type": "execute_result"
    }
   ],
   "source": [
    "%sql"
   ]
  },
  {
   "cell_type": "markdown",
   "metadata": {},
   "source": [
    "** 9. What is the average score given to restaurants based on the type of inspection?\n",
    "    Based on the results, identify the types of inspections that are not scored (NULL)\n",
    "    and remove those categories from the resultset. The 'average_score' should be rounded\n",
    "    to one decimal. Sort the results in ascending order based on the average score. Hint: use the function `ROUND(score, 1)`**"
   ]
  },
  {
   "cell_type": "code",
   "execution_count": 10,
   "metadata": {},
   "outputs": [
    {
     "name": "stdout",
     "output_type": "stream",
     "text": [
      " * sqlite:///data/sfscores.sqlite\n"
     ]
    },
    {
     "data": {
      "text/plain": [
       "'Connected: @data/sfscores.sqlite'"
      ]
     },
     "execution_count": 10,
     "metadata": {},
     "output_type": "execute_result"
    }
   ],
   "source": [
    "%sql"
   ]
  },
  {
   "cell_type": "markdown",
   "metadata": {},
   "source": [
    "** 10. Find the restaurant owners (owner_name) that own one or multiple restaurants in the city\n",
    "    with the number of restaurants (num_restaurants) they own.\n",
    "    Find the first top 10 owners ordered by descending order using the number of restaurants.**"
   ]
  },
  {
   "cell_type": "code",
   "execution_count": 11,
   "metadata": {},
   "outputs": [
    {
     "name": "stdout",
     "output_type": "stream",
     "text": [
      " * sqlite:///data/sfscores.sqlite\n"
     ]
    },
    {
     "data": {
      "text/plain": [
       "'Connected: @data/sfscores.sqlite'"
      ]
     },
     "execution_count": 11,
     "metadata": {},
     "output_type": "execute_result"
    }
   ],
   "source": [
    "%sql"
   ]
  },
  {
   "cell_type": "markdown",
   "metadata": {},
   "source": [
    "## Pt3: Subqueries and joins"
   ]
  },
  {
   "cell_type": "markdown",
   "metadata": {},
   "source": [
    "** 11. From the businesses table, select the top 10 most popular postal_code. They should be filtered to only count the restaurants owned by people/entities that own 5 or more restaurants. The final result should return a row (postal_code, count) for each 10 selection and be sorted by descending order to get the most relevant zip codes\n",
    "**"
   ]
  },
  {
   "cell_type": "code",
   "execution_count": 12,
   "metadata": {},
   "outputs": [
    {
     "name": "stdout",
     "output_type": "stream",
     "text": [
      " * sqlite:///data/sfscores.sqlite\n"
     ]
    },
    {
     "data": {
      "text/plain": [
       "'Connected: @data/sfscores.sqlite'"
      ]
     },
     "execution_count": 12,
     "metadata": {},
     "output_type": "execute_result"
    }
   ],
   "source": [
    "%sql"
   ]
  },
  {
   "cell_type": "markdown",
   "metadata": {},
   "source": [
    "**12. First let's get an idea about the inspection score our competition has.\n",
    "    Based on multiple inspections, find out the minimum Score (as \"min_score\"),\n",
    "    average Score (as \"avg_score\") and maximum Score (as \"max_score\") for all restaurant in post code \"94103\".\n",
    "    The average score should be rounded to one decimal.**"
   ]
  },
  {
   "cell_type": "code",
   "execution_count": 13,
   "metadata": {},
   "outputs": [
    {
     "name": "stdout",
     "output_type": "stream",
     "text": [
      " * sqlite:///data/sfscores.sqlite\n"
     ]
    },
    {
     "data": {
      "text/plain": [
       "'Connected: @data/sfscores.sqlite'"
      ]
     },
     "execution_count": 13,
     "metadata": {},
     "output_type": "execute_result"
    }
   ],
   "source": [
    "%sql"
   ]
  },
  {
   "cell_type": "markdown",
   "metadata": {},
   "source": [
    "** 13. Now lets get more serious, and look at how many times restaurants in Market street\n",
    "    (postal_code: 94103) has committed health violations and group them based on their risk category.\n",
    "    The output should be (risk_category, count as frequency) and sorted in descending order by frequency**"
   ]
  },
  {
   "cell_type": "code",
   "execution_count": 14,
   "metadata": {},
   "outputs": [
    {
     "name": "stdout",
     "output_type": "stream",
     "text": [
      " * sqlite:///data/sfscores.sqlite\n"
     ]
    },
    {
     "data": {
      "text/plain": [
       "'Connected: @data/sfscores.sqlite'"
      ]
     },
     "execution_count": 14,
     "metadata": {},
     "output_type": "execute_result"
    }
   ],
   "source": [
    "%sql"
   ]
  },
  {
   "cell_type": "code",
   "execution_count": null,
   "metadata": {},
   "outputs": [],
   "source": []
  }
 ],
 "metadata": {
  "kernelspec": {
   "display_name": "Python 3",
   "language": "python",
   "name": "python3"
  },
  "language_info": {
   "codemirror_mode": {
    "name": "ipython",
    "version": 3
   },
   "file_extension": ".py",
   "mimetype": "text/x-python",
   "name": "python",
   "nbconvert_exporter": "python",
   "pygments_lexer": "ipython3",
   "version": "3.7.3"
  },
  "toc": {
   "base_numbering": 1,
   "nav_menu": {},
   "number_sections": true,
   "sideBar": true,
   "skip_h1_title": false,
   "title_cell": "Table of Contents",
   "title_sidebar": "Contents",
   "toc_cell": false,
   "toc_position": {},
   "toc_section_display": true,
   "toc_window_display": false
  }
 },
 "nbformat": 4,
 "nbformat_minor": 1
}
